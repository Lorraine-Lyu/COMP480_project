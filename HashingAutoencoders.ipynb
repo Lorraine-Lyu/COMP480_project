{
 "cells": [
  {
   "cell_type": "markdown",
   "metadata": {},
   "source": [
    "# Hashing Autoencoders and RAMBO\n",
    "\n",
    "We are attempting to improve the performance of RAMBO by training an autoencoder to act as a hash function. Our eventual goal is to make a library of PDFs easily searchable, but for now we test with the AOL dataset used in class for our homeworks."
   ]
  },
  {
   "cell_type": "markdown",
   "metadata": {},
   "source": [
    "## Create training and validation data\n",
    "\n",
    "Here we simply download the AOL dataset from the appropriate website. We will later hash it and split it into training and validation datasets."
   ]
  },
  {
   "cell_type": "code",
   "execution_count": 2,
   "metadata": {},
   "outputs": [],
   "source": [
    "import urllib.request\n",
    "from pathlib import Path\n",
    "\n",
    "AOL_URL = \"http://www.cim.mcgill.ca/~dudek/206/Logs/AOL-user-ct-collection/user-ct-test-collection-01.txt\"\n",
    "\n",
    "data_dir = Path(\"data\")\n",
    "data_file = Path(\"data/aol.txt\")\n",
    "\n",
    "if not data_file.is_file():\n",
    "    if not data_dir.is_dir():\n",
    "        data_dir.mkdir(parents=True, exist_ok=True)\n",
    "\n",
    "    with urllib.request.urlopen(AOL_URL) as data_url, data_file.open(\n",
    "        \"w\", encoding=\"utf-8\"\n",
    "    ) as fd:\n",
    "        fd.write(data_url.read().decode(\"utf-8\"))"
   ]
  },
  {
   "cell_type": "markdown",
   "metadata": {},
   "source": [
    "Let's read it into a Pandas `DataFrame` and extract the queries from it."
   ]
  },
  {
   "cell_type": "code",
   "execution_count": 3,
   "metadata": {},
   "outputs": [],
   "source": [
    "import numpy as np\n",
    "import pandas as pd\n",
    "\n",
    "data = pd.read_csv(data_file, sep=\"\\t\")\n",
    "phrases = data.Query.dropna().unique().tolist()"
   ]
  },
  {
   "cell_type": "markdown",
   "metadata": {},
   "source": [
    "We convert the phrases to lists of ASCII numbers and pad them to 512 elements in length."
   ]
  },
  {
   "cell_type": "code",
   "execution_count": 4,
   "metadata": {},
   "outputs": [
    {
     "data": {
      "text/plain": [
       "(1216652, 512)"
      ]
     },
     "execution_count": 4,
     "metadata": {},
     "output_type": "execute_result"
    }
   ],
   "source": [
    "PAD_CONST = 512\n",
    "\n",
    "\n",
    "def word_to_ascii(word):\n",
    "    ascii_word = list(map(ord, word))\n",
    "    padded_ascii = ascii_word + ([0] * (PAD_CONST - len(ascii_word)))\n",
    "    return padded_ascii\n",
    "\n",
    "\n",
    "phrases_ascii = np.array(list(map(word_to_ascii, phrases)))\n",
    "phrases_ascii.shape"
   ]
  },
  {
   "cell_type": "markdown",
   "metadata": {},
   "source": [
    "Now we hash them with MurmurHash for our `y` variable"
   ]
  },
  {
   "cell_type": "code",
   "execution_count": 5,
   "metadata": {},
   "outputs": [
    {
     "data": {
      "text/plain": [
       "(1216652, 32)"
      ]
     },
     "execution_count": 5,
     "metadata": {},
     "output_type": "execute_result"
    }
   ],
   "source": [
    "from sklearn.utils import murmurhash3_32\n",
    "\n",
    "\n",
    "# Taken from: https://stackoverflow.com/a/47521145\n",
    "def vec_bin_array(arr, m):\n",
    "    \"\"\"\n",
    "    Arguments:\n",
    "    arr: Numpy array of positive integers\n",
    "    m: Number of bits of each integer to retain\n",
    "\n",
    "    Returns a copy of arr with every element replaced with a bit vector.\n",
    "    Bits encoded as int8's.\n",
    "    \"\"\"\n",
    "    to_str_func = np.vectorize(lambda x: np.binary_repr(x).zfill(m))\n",
    "    strs = to_str_func(arr)\n",
    "    ret = np.zeros(list(arr.shape) + [m], dtype=np.int64)\n",
    "    for bit_ix in range(0, m):\n",
    "        fetch_bit_func = np.vectorize(lambda x: x[bit_ix] == \"1\")\n",
    "        ret[..., bit_ix] = fetch_bit_func(strs).astype(\"int8\")\n",
    "\n",
    "    return ret\n",
    "\n",
    "\n",
    "phrases_hashed = vec_bin_array(\n",
    "    np.array(list(map(lambda x: murmurhash3_32(x, seed=2021, positive=True), phrases))),\n",
    "    32,\n",
    ")\n",
    "phrases_hashed.shape"
   ]
  },
  {
   "cell_type": "markdown",
   "metadata": {},
   "source": [
    "## Building our model\n",
    "\n",
    "Before we train our encoder, we split the dataset into training, testing, and validation sets."
   ]
  },
  {
   "cell_type": "code",
   "execution_count": 6,
   "metadata": {},
   "outputs": [],
   "source": [
    "from sklearn.model_selection import train_test_split\n",
    "\n",
    "X_train, X_test, y_train, y_test = train_test_split(\n",
    "    phrases_ascii, phrases_ascii, test_size=0.2, random_state=2021\n",
    ")\n",
    "\n",
    "X_train, X_val, y_train, y_val = train_test_split(\n",
    "    X_train, y_train, test_size=0.25, random_state=2021\n",
    ")"
   ]
  },
  {
   "cell_type": "markdown",
   "metadata": {},
   "source": [
    "Now we're finally ready to create `tf.Dataset` objects out of our data. This is an API provided by Tensorflow which allows for easy manipulation of data for training models."
   ]
  },
  {
   "cell_type": "code",
   "execution_count": 9,
   "metadata": {},
   "outputs": [],
   "source": [
    "import tensorflow as tf\n",
    "\n",
    "train_dataset = tf.data.Dataset.from_tensor_slices((X_train, y_train))\n",
    "val_dataset = tf.data.Dataset.from_tensor_slices((X_val, y_val))\n",
    "test_dataset = tf.data.Dataset.from_tensor_slices((X_test, y_test))\n",
    "\n",
    "BATCH_SIZE = 32\n",
    "SHUFFLE_BUFFER_SIZE = 96\n",
    "\n",
    "train_dataset = train_dataset.shuffle(SHUFFLE_BUFFER_SIZE).batch(BATCH_SIZE)\n",
    "val_dataset = val_dataset.shuffle(SHUFFLE_BUFFER_SIZE).batch(BATCH_SIZE)\n",
    "test_dataset = test_dataset.shuffle(SHUFFLE_BUFFER_SIZE).batch(BATCH_SIZE)"
   ]
  },
  {
   "cell_type": "markdown",
   "metadata": {},
   "source": [
    "Next, we define our model. We focus on the encoding portion of the encoder-decoder pair, as that is what concerns us the most."
   ]
  },
  {
   "cell_type": "code",
   "execution_count": 17,
   "metadata": {},
   "outputs": [
    {
     "name": "stdout",
     "output_type": "stream",
     "text": [
      "Model: \"autoencoder_1\"\n",
      "_________________________________________________________________\n",
      "Layer (type)                 Output Shape              Param #   \n",
      "=================================================================\n",
      "sequential_2 (Sequential)    (None, 32)                174560    \n",
      "_________________________________________________________________\n",
      "sequential_3 (Sequential)    (None, 512)               175040    \n",
      "=================================================================\n",
      "Total params: 349,600\n",
      "Trainable params: 349,600\n",
      "Non-trainable params: 0\n",
      "_________________________________________________________________\n"
     ]
    }
   ],
   "source": [
    "from tensorflow import keras\n",
    "from tensorflow.keras import layers\n",
    "\n",
    "latent_dim = 32\n",
    "\n",
    "\n",
    "class Autoencoder(keras.models.Model):\n",
    "    def __init__(self, latent_dim):\n",
    "        super(Autoencoder, self).__init__()\n",
    "        self.latent_dim = latent_dim\n",
    "        self.encoder = keras.Sequential(\n",
    "            [\n",
    "                layers.Dense(256, activation=\"relu\"),\n",
    "                layers.Dense(128, activation=\"relu\"),\n",
    "                layers.Dense(64, activation=\"relu\"),\n",
    "                layers.Dense(self.latent_dim, activation=\"relu\"),\n",
    "            ]\n",
    "        )\n",
    "\n",
    "        self.decoder = keras.Sequential(\n",
    "            [\n",
    "                layers.Dense(64, activation=\"relu\"),\n",
    "                layers.Dense(128, activation=\"relu\"),\n",
    "                layers.Dense(256, activation=\"relu\"),\n",
    "                layers.Dense(512, activation=\"relu\"),\n",
    "            ]\n",
    "        )\n",
    "\n",
    "    def call(self, x):\n",
    "        encoded = self.encoder(x)\n",
    "        decoded = self.decoder(encoded)\n",
    "        return decoded\n",
    "\n",
    "    def encode(self, x):\n",
    "        return self.encoder(x)\n",
    "\n",
    "    def decode(self, x):\n",
    "        return self.decoder(x)\n",
    "\n",
    "\n",
    "model = Autoencoder(latent_dim)\n",
    "model.build((None, 512))\n",
    "model.compile(\n",
    "    loss=\"mean_squared_error\",\n",
    "    optimizer=\"adam\",\n",
    "    metrics=[\"accuracy\"],\n",
    ")\n",
    "model.summary()"
   ]
  },
  {
   "cell_type": "code",
   "execution_count": 18,
   "metadata": {},
   "outputs": [
    {
     "name": "stdout",
     "output_type": "stream",
     "text": [
      "Epoch 1/5\n",
      "22813/22813 [==============================] - 96s 4ms/step - loss: 53.1162 - accuracy: 0.2324 - val_loss: 24.8225 - val_accuracy: 0.4077\n",
      "\n",
      "Epoch 00001: val_loss improved from inf to 24.82251, saving model to model-tgs-salt.h5\n",
      "Epoch 2/5\n",
      "22813/22813 [==============================] - 93s 4ms/step - loss: 23.9268 - accuracy: 0.3989 - val_loss: 23.8087 - val_accuracy: 0.5066\n",
      "\n",
      "Epoch 00002: val_loss improved from 24.82251 to 23.80871, saving model to model-tgs-salt.h5\n",
      "Epoch 3/5\n",
      "22813/22813 [==============================] - 95s 4ms/step - loss: 22.1668 - accuracy: 0.4301 - val_loss: 21.0514 - val_accuracy: 0.4940\n",
      "\n",
      "Epoch 00003: val_loss improved from 23.80871 to 21.05137, saving model to model-tgs-salt.h5\n",
      "Epoch 4/5\n",
      "22813/22813 [==============================] - 96s 4ms/step - loss: 20.6681 - accuracy: 0.4497 - val_loss: 20.0889 - val_accuracy: 0.5185\n",
      "\n",
      "Epoch 00004: val_loss improved from 21.05137 to 20.08895, saving model to model-tgs-salt.h5\n",
      "Epoch 5/5\n",
      "22813/22813 [==============================] - 89s 4ms/step - loss: 19.6863 - accuracy: 0.4606 - val_loss: 21.3496 - val_accuracy: 0.3336\n",
      "\n",
      "Epoch 00005: val_loss did not improve from 20.08895\n"
     ]
    }
   ],
   "source": [
    "callbacks = [\n",
    "    tf.keras.callbacks.EarlyStopping(\n",
    "        monitor=\"val_loss\", mode=\"min\", patience=10, verbose=1\n",
    "    ),\n",
    "    tf.keras.callbacks.ReduceLROnPlateau(\n",
    "        factor=0.1, patience=5, min_lr=0.00001, verbose=1\n",
    "    ),\n",
    "    tf.keras.callbacks.ModelCheckpoint(\n",
    "        \"model-tgs-salt.h5\", verbose=1, save_best_only=True, save_weights_only=True\n",
    "    ),\n",
    "]\n",
    "\n",
    "history = model.fit(\n",
    "    train_dataset, epochs=20, callbacks=callbacks, validation_data=val_dataset\n",
    ")"
   ]
  },
  {
   "cell_type": "markdown",
   "metadata": {},
   "source": [
    "### Plotting training results\n",
    "\n",
    "Here we plot our training results, just to convince ourselves that our model is working."
   ]
  },
  {
   "cell_type": "code",
   "execution_count": 9,
   "metadata": {},
   "outputs": [
    {
     "ename": "KeyError",
     "evalue": "'acc'",
     "output_type": "error",
     "traceback": [
      "\u001b[0;31m\u001b[0m",
      "\u001b[0;31mKeyError\u001b[0mTraceback (most recent call last)",
      "\u001b[0;32m<ipython-input-9-8d34d40c343e>\u001b[0m in \u001b[0;36m<module>\u001b[0;34m\u001b[0m\n\u001b[1;32m      2\u001b[0m \u001b[0;34m\u001b[0m\u001b[0m\n\u001b[1;32m      3\u001b[0m \u001b[0;31m#  \"Accuracy\"\u001b[0m\u001b[0;34m\u001b[0m\u001b[0;34m\u001b[0m\u001b[0;34m\u001b[0m\u001b[0m\n\u001b[0;32m----> 4\u001b[0;31m \u001b[0mplt\u001b[0m\u001b[0;34m.\u001b[0m\u001b[0mplot\u001b[0m\u001b[0;34m(\u001b[0m\u001b[0mhistory\u001b[0m\u001b[0;34m.\u001b[0m\u001b[0mhistory\u001b[0m\u001b[0;34m[\u001b[0m\u001b[0;34m\"acc\"\u001b[0m\u001b[0;34m]\u001b[0m\u001b[0;34m)\u001b[0m\u001b[0;34m\u001b[0m\u001b[0;34m\u001b[0m\u001b[0m\n\u001b[0m\u001b[1;32m      5\u001b[0m \u001b[0mplt\u001b[0m\u001b[0;34m.\u001b[0m\u001b[0mplot\u001b[0m\u001b[0;34m(\u001b[0m\u001b[0mhistory\u001b[0m\u001b[0;34m.\u001b[0m\u001b[0mhistory\u001b[0m\u001b[0;34m[\u001b[0m\u001b[0;34m\"val_acc\"\u001b[0m\u001b[0;34m]\u001b[0m\u001b[0;34m)\u001b[0m\u001b[0;34m\u001b[0m\u001b[0;34m\u001b[0m\u001b[0m\n\u001b[1;32m      6\u001b[0m \u001b[0mplt\u001b[0m\u001b[0;34m.\u001b[0m\u001b[0mtitle\u001b[0m\u001b[0;34m(\u001b[0m\u001b[0;34m\"model accuracy\"\u001b[0m\u001b[0;34m)\u001b[0m\u001b[0;34m\u001b[0m\u001b[0;34m\u001b[0m\u001b[0m\n",
      "\u001b[0;31mKeyError\u001b[0m: 'acc'"
     ]
    }
   ],
   "source": [
    "import matplotlib.pyplot as plt\n",
    "\n",
    "#  \"Accuracy\"\n",
    "plt.plot(history.history[\"acc\"])\n",
    "plt.plot(history.history[\"val_acc\"])\n",
    "plt.title(\"model accuracy\")\n",
    "plt.ylabel(\"accuracy\")\n",
    "plt.xlabel(\"epoch\")\n",
    "plt.legend([\"train\", \"validation\"], loc=\"upper left\")\n",
    "plt.show()\n",
    "# \"Loss\"\n",
    "plt.plot(history.history[\"loss\"])\n",
    "plt.plot(history.history[\"val_loss\"])\n",
    "plt.title(\"model loss\")\n",
    "plt.ylabel(\"loss\")\n",
    "plt.xlabel(\"epoch\")\n",
    "plt.legend([\"train\", \"validation\"], loc=\"upper left\")\n",
    "plt.show()"
   ]
  },
  {
   "cell_type": "markdown",
   "metadata": {},
   "source": [
    "### Testing our model\n",
    "We test our model on the test dataset we set aside earlier."
   ]
  },
  {
   "cell_type": "code",
   "execution_count": 19,
   "metadata": {},
   "outputs": [
    {
     "name": "stdout",
     "output_type": "stream",
     "text": [
      "7605/7605 [==============================] - 18s 2ms/step - loss: 21.5529 - accuracy: 0.3331\n",
      "Test loss, test accuracy:  [21.552907943725586, 0.3331264853477478]\n"
     ]
    }
   ],
   "source": [
    "results = model.evaluate(test_dataset)\n",
    "\n",
    "print(\"Test loss, test accuracy: \", results)"
   ]
  },
  {
   "cell_type": "code",
   "execution_count": 31,
   "metadata": {},
   "outputs": [
    {
     "name": "stdout",
     "output_type": "stream",
     "text": [
      "tf.Tensor(\n",
      "[[ 33.52078   34.702988   0.         0.        81.65477  117.56293\n",
      "   38.503662  35.110764  68.977264  47.95541    0.        59.143414\n",
      "    0.        70.062996  55.42965   35.76763    0.        32.363712\n",
      "   28.937103  35.198166  92.18039   50.493496   0.        47.72702\n",
      "    0.       120.11927   36.761654   0.        34.79291   70.11691\n",
      "   78.18633    0.      ]], shape=(1, 32), dtype=float32)\n",
      "tf.Tensor(\n",
      "[[ 33.30903   34.671623   0.         0.        81.57011  117.166084\n",
      "   38.776367  35.472603  68.5487    47.83555    0.        59.083603\n",
      "    0.        69.72224   55.407513  36.247406   0.        32.132687\n",
      "   28.953465  35.232616  92.30373   50.025177   0.        47.62036\n",
      "    0.       120.35853   36.702152   0.        34.419674  69.945496\n",
      "   78.15209    0.      ]], shape=(1, 32), dtype=float32)\n",
      "tf.Tensor(\n",
      "[[ 33.097713  34.643894   0.         0.        81.47064  116.74923\n",
      "   39.068504  35.844177  68.110176  47.71743    0.        59.023647\n",
      "    0.        69.39486   55.36061   36.722202   0.        31.906382\n",
      "   28.978771  35.273014  92.44628   49.527725   0.        47.52626\n",
      "    0.       120.58993   36.63512    0.        34.038475  69.763435\n",
      "   78.128136   0.      ]], shape=(1, 32), dtype=float32)\n",
      "tf.Tensor(\n",
      "[[ 32.892273  34.61043    0.         0.        81.35308  116.35028\n",
      "   39.34591   36.187927  67.675     47.638916   0.        59.014706\n",
      "    0.        69.05235   55.32407   37.25162    0.        31.674547\n",
      "   29.052908  35.335354  92.58227   49.05183    0.        47.461727\n",
      "    0.       120.8101    36.62855    0.        33.648197  69.59301\n",
      "   78.130554   0.      ]], shape=(1, 32), dtype=float32)\n"
     ]
    }
   ],
   "source": [
    "print(model.encode(tf.convert_to_tensor([(word_to_ascii(\"test1\"))])))\n",
    "print(model.encode(tf.convert_to_tensor([(word_to_ascii(\"test2\"))])))\n",
    "print(model.encode(tf.convert_to_tensor([(word_to_ascii(\"test3\"))])))\n",
    "print(model.encode(tf.convert_to_tensor([(word_to_ascii(\"test4\"))])))"
   ]
  },
  {
   "cell_type": "markdown",
   "metadata": {},
   "source": [
    "### Saving the model\n",
    "\n",
    "We saved the model in Tensorflow's own `SavedModel` format to use later."
   ]
  },
  {
   "cell_type": "code",
   "execution_count": null,
   "metadata": {},
   "outputs": [],
   "source": [
    "model.save(\"dense_encoder\")"
   ]
  }
 ],
 "metadata": {
  "kernelspec": {
   "display_name": "Python 3",
   "language": "python",
   "name": "python3"
  },
  "language_info": {
   "codemirror_mode": {
    "name": "ipython",
    "version": 3
   },
   "file_extension": ".py",
   "mimetype": "text/x-python",
   "name": "python",
   "nbconvert_exporter": "python",
   "pygments_lexer": "ipython3",
   "version": "3.8.5"
  }
 },
 "nbformat": 4,
 "nbformat_minor": 5
}
