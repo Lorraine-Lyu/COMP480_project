{
 "cells": [
  {
   "cell_type": "markdown",
   "id": "d15b4441-10a4-4a6c-a6ae-0f0850032303",
   "metadata": {},
   "source": [
    "# Hashing Autoencoders and RAMBO\n",
    "\n",
    "We are attempting to improve the performance of RAMBO by training an autoencoder to act as a hash function. Our eventual goal is to make a library of PDFs easily searchable, but for now we test with the AOL dataset used in class for our homeworks."
   ]
  },
  {
   "cell_type": "markdown",
   "id": "39154c6e-a5a1-4dd9-ba6d-ae4964a1600d",
   "metadata": {},
   "source": [
    "## Create training and validation data\n",
    "\n",
    "Here we simply download the AOL dataset from the appropriate website. We will later hash it and split it into training and validation datasets."
   ]
  },
  {
   "cell_type": "code",
   "execution_count": 1,
   "id": "731290a8-7b3b-4410-acb3-a7ec46b3e6f6",
   "metadata": {},
   "outputs": [],
   "source": [
    "import urllib.request\n",
    "from pathlib import Path\n",
    "\n",
    "AOL_URL = \"http://www.cim.mcgill.ca/~dudek/206/Logs/AOL-user-ct-collection/user-ct-test-collection-01.txt\"\n",
    "\n",
    "data_dir = Path(\"data\")\n",
    "data_file = Path(\"data/aol.txt\")\n",
    "\n",
    "if not data_file.is_file():\n",
    "    if not data_dir.is_dir():\n",
    "        data_dir.mkdir(parents=True, exist_ok=True)\n",
    "\n",
    "    with urllib.request.urlopen(AOL_URL) as data_url, data_file.open(\n",
    "        \"w\", encoding=\"utf-8\"\n",
    "    ) as fd:\n",
    "        fd.write(data_url.read().decode(\"utf-8\"))"
   ]
  },
  {
   "cell_type": "markdown",
   "id": "381963bc-12db-4ead-ad8f-13f860974e63",
   "metadata": {},
   "source": [
    "Let's read it into a Pandas `DataFrame` and extract the queries from it."
   ]
  },
  {
   "cell_type": "code",
   "execution_count": 2,
   "id": "c45d2df1-8a05-40a6-b2f3-b01cb776966a",
   "metadata": {},
   "outputs": [],
   "source": [
    "import numpy as np\n",
    "import pandas as pd\n",
    "\n",
    "data = pd.read_csv(data_file, sep=\"\\t\")\n",
    "phrases = data.Query.dropna().unique().tolist()"
   ]
  },
  {
   "cell_type": "markdown",
   "id": "1536b980-b599-414f-90d1-76f8a4582e08",
   "metadata": {},
   "source": [
    "We convert the phrases to lists of ASCII numbers and pad them to 512 elements in length."
   ]
  },
  {
   "cell_type": "code",
   "execution_count": 3,
   "id": "2b8c4d69-1e35-4870-a6a3-08f349a82939",
   "metadata": {},
   "outputs": [
    {
     "data": {
      "text/plain": [
       "(1216652, 512)"
      ]
     },
     "execution_count": 3,
     "metadata": {},
     "output_type": "execute_result"
    }
   ],
   "source": [
    "PAD_CONST = 512\n",
    "\n",
    "\n",
    "def word_to_ascii(word):\n",
    "    ascii_word = list(map(ord, word))\n",
    "    padded_ascii = ascii_word + ([0] * (PAD_CONST - len(ascii_word)))\n",
    "    return padded_ascii\n",
    "\n",
    "\n",
    "phrases_ascii = np.array(list(map(word_to_ascii, phrases)))\n",
    "phrases_ascii.shape"
   ]
  },
  {
   "cell_type": "markdown",
   "id": "998e291a-9bb7-45f1-9a5d-90f5501bb61a",
   "metadata": {},
   "source": [
    "Now we hash them with MurmurHash for our `y` variable"
   ]
  },
  {
   "cell_type": "code",
   "execution_count": 4,
   "id": "1cbc3c0a-7218-4d53-a9d7-4c80d23e75ba",
   "metadata": {},
   "outputs": [
    {
     "data": {
      "text/plain": [
       "(1216652, 32)"
      ]
     },
     "execution_count": 4,
     "metadata": {},
     "output_type": "execute_result"
    }
   ],
   "source": [
    "from sklearn.utils import murmurhash3_32\n",
    "\n",
    "\n",
    "# Taken from: https://stackoverflow.com/a/47521145\n",
    "def vec_bin_array(arr, m):\n",
    "    \"\"\"\n",
    "    Arguments:\n",
    "    arr: Numpy array of positive integers\n",
    "    m: Number of bits of each integer to retain\n",
    "\n",
    "    Returns a copy of arr with every element replaced with a bit vector.\n",
    "    Bits encoded as int8's.\n",
    "    \"\"\"\n",
    "    to_str_func = np.vectorize(lambda x: np.binary_repr(x).zfill(m))\n",
    "    strs = to_str_func(arr)\n",
    "    ret = np.zeros(list(arr.shape) + [m], dtype=np.int64)\n",
    "    for bit_ix in range(0, m):\n",
    "        fetch_bit_func = np.vectorize(lambda x: x[bit_ix] == \"1\")\n",
    "        ret[..., bit_ix] = fetch_bit_func(strs).astype(\"int8\")\n",
    "\n",
    "    return ret\n",
    "\n",
    "\n",
    "phrases_hashed = vec_bin_array(\n",
    "    np.array(list(map(lambda x: murmurhash3_32(x, seed=2021, positive=True), phrases))),\n",
    "    32,\n",
    ")\n",
    "phrases_hashed.shape"
   ]
  },
  {
   "cell_type": "markdown",
   "id": "1514a0fd-e712-45de-a864-60b75ac2754e",
   "metadata": {},
   "source": [
    "## Building our model\n",
    "\n",
    "Before we train our encoder, we split the dataset into training, testing, and validation sets."
   ]
  },
  {
   "cell_type": "code",
   "execution_count": 5,
   "id": "c1fd88ad-2954-48fe-a56b-248f18fc9091",
   "metadata": {},
   "outputs": [],
   "source": [
    "from sklearn.model_selection import train_test_split\n",
    "\n",
    "X_train, X_test, y_train, y_test = train_test_split(\n",
    "    phrases_ascii, phrases_ascii, test_size=0.2, random_state=2021\n",
    ")\n",
    "\n",
    "X_train, X_val, y_train, y_val = train_test_split(\n",
    "    X_train, y_train, test_size=0.25, random_state=2021\n",
    ")"
   ]
  },
  {
   "cell_type": "markdown",
   "id": "290b2870-e4ae-420c-a9c5-633edb92cd67",
   "metadata": {},
   "source": [
    "Now we're finally ready to create `tf.Dataset` objects out of our data. This is an API provided by Tensorflow which allows for easy manipulation of data for training models."
   ]
  },
  {
   "cell_type": "code",
   "execution_count": 6,
   "id": "1db057ac-4f19-474b-b76e-ff68f96498af",
   "metadata": {},
   "outputs": [
    {
     "name": "stdout",
     "output_type": "stream",
     "text": [
      "INFO:tensorflow:Enabling eager execution\n",
      "INFO:tensorflow:Enabling v2 tensorshape\n",
      "INFO:tensorflow:Enabling resource variables\n",
      "INFO:tensorflow:Enabling tensor equality\n",
      "INFO:tensorflow:Enabling control flow v2\n"
     ]
    }
   ],
   "source": [
    "import tensorflow as tf\n",
    "\n",
    "train_dataset = tf.data.Dataset.from_tensor_slices((X_train, y_train))\n",
    "val_dataset = tf.data.Dataset.from_tensor_slices((X_val, y_val))\n",
    "test_dataset = tf.data.Dataset.from_tensor_slices((X_test, y_test))\n",
    "\n",
    "BATCH_SIZE = 32\n",
    "SHUFFLE_BUFFER_SIZE = 96\n",
    "\n",
    "train_dataset = train_dataset.shuffle(SHUFFLE_BUFFER_SIZE).batch(BATCH_SIZE)\n",
    "val_dataset = val_dataset.shuffle(SHUFFLE_BUFFER_SIZE).batch(BATCH_SIZE)\n",
    "test_dataset = test_dataset.shuffle(SHUFFLE_BUFFER_SIZE).batch(BATCH_SIZE)"
   ]
  },
  {
   "cell_type": "markdown",
   "id": "e736d059-a6de-41ce-b9a5-f74f2d4255bd",
   "metadata": {},
   "source": [
    "Next, we define our model. We focus on the encoding portion of the encoder-decoder pair, as that is what concerns us the most."
   ]
  },
  {
   "cell_type": "code",
   "execution_count": 7,
   "id": "563b8c8e-cfec-4af4-a708-6a2d9d738e64",
   "metadata": {},
   "outputs": [
    {
     "name": "stdout",
     "output_type": "stream",
     "text": [
      "Model: \"autoencoder\"\n",
      "_________________________________________________________________\n",
      "Layer (type)                 Output Shape              Param #   \n",
      "=================================================================\n",
      "sequential (Sequential)      (None, 32)                174560    \n",
      "_________________________________________________________________\n",
      "sequential_1 (Sequential)    (None, 512)               175040    \n",
      "=================================================================\n",
      "Total params: 349,600\n",
      "Trainable params: 349,600\n",
      "Non-trainable params: 0\n",
      "_________________________________________________________________\n"
     ]
    }
   ],
   "source": [
    "from tensorflow import keras\n",
    "from tensorflow.keras import layers\n",
    "\n",
    "latent_dim = 32\n",
    "\n",
    "\n",
    "class Autoencoder(keras.models.Model):\n",
    "    def __init__(self, latent_dim):\n",
    "        super(Autoencoder, self).__init__()\n",
    "        self.latent_dim = latent_dim\n",
    "        self.encoder = keras.Sequential(\n",
    "            [\n",
    "                layers.Dense(256, activation=\"relu\"),\n",
    "                layers.Dense(128, activation=\"relu\"),\n",
    "                layers.Dense(64, activation=\"relu\"),\n",
    "                layers.Dense(self.latent_dim, activation=\"relu\"),\n",
    "            ]\n",
    "        )\n",
    "\n",
    "        self.decoder = keras.Sequential(\n",
    "            [\n",
    "                layers.Dense(64, activation=\"relu\"),\n",
    "                layers.Dense(128, activation=\"relu\"),\n",
    "                layers.Dense(256, activation=\"relu\"),\n",
    "                layers.Dense(512, activation=\"relu\"),\n",
    "            ]\n",
    "        )\n",
    "\n",
    "    def call(self, x):\n",
    "        encoded = self.encoder(x)\n",
    "        decoded = self.decoder(encoded)\n",
    "        return decoded\n",
    "\n",
    "    def encode(self, x):\n",
    "        return self.encode(x)\n",
    "\n",
    "    def decode(self, x):\n",
    "        return self.decode(x)\n",
    "\n",
    "\n",
    "model = Autoencoder(latent_dim)\n",
    "model.build((None, 512))\n",
    "model.compile(\n",
    "    loss=\"mean_squared_error\",\n",
    "    optimizer=\"adam\",\n",
    "    metrics=[\"accuracy\"],\n",
    ")\n",
    "model.summary()"
   ]
  },
  {
   "cell_type": "code",
   "execution_count": 8,
   "id": "a2aa3061-ada3-43e8-ae17-9ad13df688c6",
   "metadata": {},
   "outputs": [
    {
     "name": "stdout",
     "output_type": "stream",
     "text": [
      "Epoch 1/20\n",
      "22813/22813 [==============================] - 108s 5ms/step - loss: 41.0574 - accuracy: 0.1679 - val_loss: 24.1625 - val_accuracy: 0.2846\n",
      "\n",
      "Epoch 00001: val_loss improved from inf to 24.16250, saving model to model-tgs-salt.h5\n",
      "Epoch 2/20\n",
      "22813/22813 [==============================] - 80s 4ms/step - loss: 23.5690 - accuracy: 0.2958 - val_loss: 23.3392 - val_accuracy: 0.3741\n",
      "\n",
      "Epoch 00002: val_loss improved from 24.16250 to 23.33924, saving model to model-tgs-salt.h5\n",
      "Epoch 3/20\n",
      "22813/22813 [==============================] - 36s 2ms/step - loss: 22.9301 - accuracy: 0.3406 - val_loss: 23.2452 - val_accuracy: 0.3344\n",
      "\n",
      "Epoch 00003: val_loss improved from 23.33924 to 23.24524, saving model to model-tgs-salt.h5\n",
      "Epoch 4/20\n",
      "22813/22813 [==============================] - 36s 2ms/step - loss: 22.6368 - accuracy: 0.3597 - val_loss: 22.8710 - val_accuracy: 0.4170\n",
      "\n",
      "Epoch 00004: val_loss improved from 23.24524 to 22.87101, saving model to model-tgs-salt.h5\n",
      "Epoch 5/20\n",
      "22813/22813 [==============================] - 39s 2ms/step - loss: 22.5039 - accuracy: 0.3710 - val_loss: 22.8241 - val_accuracy: 0.3673\n",
      "\n",
      "Epoch 00005: val_loss improved from 22.87101 to 22.82406, saving model to model-tgs-salt.h5\n",
      "Epoch 6/20\n",
      "22813/22813 [==============================] - 36s 2ms/step - loss: 22.3467 - accuracy: 0.3780 - val_loss: 12.8027 - val_accuracy: 0.3496\n",
      "\n",
      "Epoch 00006: val_loss improved from 22.82406 to 12.80267, saving model to model-tgs-salt.h5\n",
      "Epoch 7/20\n",
      "22813/22813 [==============================] - 40s 2ms/step - loss: 12.0637 - accuracy: 0.3756 - val_loss: 12.1344 - val_accuracy: 0.3902\n",
      "\n",
      "Epoch 00007: val_loss improved from 12.80267 to 12.13437, saving model to model-tgs-salt.h5\n",
      "Epoch 8/20\n",
      "22813/22813 [==============================] - 53s 2ms/step - loss: 11.9822 - accuracy: 0.3726 - val_loss: 12.2667 - val_accuracy: 0.4298\n",
      "\n",
      "Epoch 00008: val_loss did not improve from 12.13437\n",
      "Epoch 9/20\n",
      "22813/22813 [==============================] - 36s 2ms/step - loss: 11.9006 - accuracy: 0.3796 - val_loss: 12.2522 - val_accuracy: 0.3605\n",
      "\n",
      "Epoch 00009: val_loss did not improve from 12.13437\n",
      "Epoch 10/20\n",
      "22813/22813 [==============================] - 56s 2ms/step - loss: 11.8322 - accuracy: 0.3867 - val_loss: 12.2858 - val_accuracy: 0.3624\n",
      "\n",
      "Epoch 00010: val_loss did not improve from 12.13437\n",
      "Epoch 11/20\n",
      "22813/22813 [==============================] - 38s 2ms/step - loss: 11.8211 - accuracy: 0.3849 - val_loss: 11.9981 - val_accuracy: 0.4091\n",
      "\n",
      "Epoch 00011: val_loss improved from 12.13437 to 11.99807, saving model to model-tgs-salt.h5\n",
      "Epoch 12/20\n",
      "22813/22813 [==============================] - 53s 2ms/step - loss: 11.8325 - accuracy: 0.3840 - val_loss: 11.9299 - val_accuracy: 0.4532\n",
      "\n",
      "Epoch 00012: val_loss improved from 11.99807 to 11.92987, saving model to model-tgs-salt.h5\n",
      "Epoch 13/20\n",
      "22813/22813 [==============================] - 50s 2ms/step - loss: 10.9392 - accuracy: 0.3865 - val_loss: 10.8490 - val_accuracy: 0.3589\n",
      "\n",
      "Epoch 00013: val_loss improved from 11.92987 to 10.84898, saving model to model-tgs-salt.h5\n",
      "Epoch 14/20\n",
      "22813/22813 [==============================] - 37s 2ms/step - loss: 10.5445 - accuracy: 0.3843 - val_loss: 11.2656 - val_accuracy: 0.3437\n",
      "\n",
      "Epoch 00014: val_loss did not improve from 10.84898\n",
      "Epoch 15/20\n",
      "22813/22813 [==============================] - 36s 2ms/step - loss: 10.5891 - accuracy: 0.3859 - val_loss: 11.6759 - val_accuracy: 0.2984\n",
      "\n",
      "Epoch 00015: val_loss did not improve from 10.84898\n",
      "Epoch 16/20\n",
      "22813/22813 [==============================] - 41s 2ms/step - loss: 10.5571 - accuracy: 0.3858 - val_loss: 10.7203 - val_accuracy: 0.4311\n",
      "\n",
      "Epoch 00016: val_loss improved from 10.84898 to 10.72032, saving model to model-tgs-salt.h5\n",
      "Epoch 17/20\n",
      "22813/22813 [==============================] - 60s 3ms/step - loss: 10.4647 - accuracy: 0.3876 - val_loss: 10.8867 - val_accuracy: 0.3768\n",
      "\n",
      "Epoch 00017: val_loss did not improve from 10.72032\n",
      "Epoch 18/20\n",
      "22813/22813 [==============================] - 53s 2ms/step - loss: 10.4425 - accuracy: 0.3859 - val_loss: 10.6368 - val_accuracy: 0.3727\n",
      "\n",
      "Epoch 00018: val_loss improved from 10.72032 to 10.63683, saving model to model-tgs-salt.h5\n",
      "Epoch 19/20\n",
      "22813/22813 [==============================] - 36s 2ms/step - loss: 10.5244 - accuracy: 0.3809 - val_loss: 10.7124 - val_accuracy: 0.4025\n",
      "\n",
      "Epoch 00019: val_loss did not improve from 10.63683\n",
      "Epoch 20/20\n",
      "22813/22813 [==============================] - 86s 4ms/step - loss: 10.4208 - accuracy: 0.3864 - val_loss: 10.7303 - val_accuracy: 0.3854\n",
      "\n",
      "Epoch 00020: val_loss did not improve from 10.63683\n"
     ]
    }
   ],
   "source": [
    "callbacks = [\n",
    "    tf.keras.callbacks.EarlyStopping(\n",
    "        monitor=\"val_loss\", mode=\"min\", patience=10, verbose=1\n",
    "    ),\n",
    "    tf.keras.callbacks.ReduceLROnPlateau(\n",
    "        factor=0.1, patience=5, min_lr=0.00001, verbose=1\n",
    "    ),\n",
    "    tf.keras.callbacks.ModelCheckpoint(\n",
    "        \"model-tgs-salt.h5\", verbose=1, save_best_only=True, save_weights_only=True\n",
    "    ),\n",
    "]\n",
    "\n",
    "history = model.fit(\n",
    "    train_dataset, epochs=20, callbacks=callbacks, validation_data=val_dataset\n",
    ")"
   ]
  },
  {
   "cell_type": "markdown",
   "id": "ac4e68d5-5c86-4807-8ff2-abcbb51763a2",
   "metadata": {},
   "source": [
    "### Plotting training results\n",
    "\n",
    "Here we plot our training results, just to convince ourselves that our model is working."
   ]
  },
  {
   "cell_type": "code",
   "execution_count": 9,
   "id": "ba0791c5-b440-491c-b3ef-ccbe1e3be561",
   "metadata": {},
   "outputs": [
    {
     "ename": "KeyError",
     "evalue": "'acc'",
     "output_type": "error",
     "traceback": [
      "\u001b[0;31m\u001b[0m",
      "\u001b[0;31mKeyError\u001b[0mTraceback (most recent call last)",
      "\u001b[0;32m<ipython-input-9-8d34d40c343e>\u001b[0m in \u001b[0;36m<module>\u001b[0;34m\u001b[0m\n\u001b[1;32m      2\u001b[0m \u001b[0;34m\u001b[0m\u001b[0m\n\u001b[1;32m      3\u001b[0m \u001b[0;31m#  \"Accuracy\"\u001b[0m\u001b[0;34m\u001b[0m\u001b[0;34m\u001b[0m\u001b[0;34m\u001b[0m\u001b[0m\n\u001b[0;32m----> 4\u001b[0;31m \u001b[0mplt\u001b[0m\u001b[0;34m.\u001b[0m\u001b[0mplot\u001b[0m\u001b[0;34m(\u001b[0m\u001b[0mhistory\u001b[0m\u001b[0;34m.\u001b[0m\u001b[0mhistory\u001b[0m\u001b[0;34m[\u001b[0m\u001b[0;34m\"acc\"\u001b[0m\u001b[0;34m]\u001b[0m\u001b[0;34m)\u001b[0m\u001b[0;34m\u001b[0m\u001b[0;34m\u001b[0m\u001b[0m\n\u001b[0m\u001b[1;32m      5\u001b[0m \u001b[0mplt\u001b[0m\u001b[0;34m.\u001b[0m\u001b[0mplot\u001b[0m\u001b[0;34m(\u001b[0m\u001b[0mhistory\u001b[0m\u001b[0;34m.\u001b[0m\u001b[0mhistory\u001b[0m\u001b[0;34m[\u001b[0m\u001b[0;34m\"val_acc\"\u001b[0m\u001b[0;34m]\u001b[0m\u001b[0;34m)\u001b[0m\u001b[0;34m\u001b[0m\u001b[0;34m\u001b[0m\u001b[0m\n\u001b[1;32m      6\u001b[0m \u001b[0mplt\u001b[0m\u001b[0;34m.\u001b[0m\u001b[0mtitle\u001b[0m\u001b[0;34m(\u001b[0m\u001b[0;34m\"model accuracy\"\u001b[0m\u001b[0;34m)\u001b[0m\u001b[0;34m\u001b[0m\u001b[0;34m\u001b[0m\u001b[0m\n",
      "\u001b[0;31mKeyError\u001b[0m: 'acc'"
     ]
    }
   ],
   "source": [
    "import matplotlib.pyplot as plt\n",
    "\n",
    "#  \"Accuracy\"\n",
    "plt.plot(history.history[\"acc\"])\n",
    "plt.plot(history.history[\"val_acc\"])\n",
    "plt.title(\"model accuracy\")\n",
    "plt.ylabel(\"accuracy\")\n",
    "plt.xlabel(\"epoch\")\n",
    "plt.legend([\"train\", \"validation\"], loc=\"upper left\")\n",
    "plt.show()\n",
    "# \"Loss\"\n",
    "plt.plot(history.history[\"loss\"])\n",
    "plt.plot(history.history[\"val_loss\"])\n",
    "plt.title(\"model loss\")\n",
    "plt.ylabel(\"loss\")\n",
    "plt.xlabel(\"epoch\")\n",
    "plt.legend([\"train\", \"validation\"], loc=\"upper left\")\n",
    "plt.show()"
   ]
  },
  {
   "cell_type": "markdown",
   "id": "968cf374-5383-4558-b565-9b9e98658ab9",
   "metadata": {},
   "source": [
    "### Testing our model\n",
    "We test our model on the test dataset we set aside earlier."
   ]
  },
  {
   "cell_type": "code",
   "execution_count": null,
   "id": "b105cabd-f615-42ee-9035-6a23138744b4",
   "metadata": {},
   "outputs": [],
   "source": [
    "results = model.evaluate(test_dataset)\n",
    "\n",
    "print(\"Test loss, test accuracy: \", results)"
   ]
  },
  {
   "cell_type": "markdown",
   "id": "715f692a-11ae-4872-8981-74f96facd54f",
   "metadata": {},
   "source": [
    "### Saving the model\n",
    "\n",
    "We saved the model in Tensorflow's own `SavedModel` format to use later."
   ]
  },
  {
   "cell_type": "code",
   "execution_count": null,
   "id": "b25f5088-f636-4bd2-8038-01c2a1e3dfbb",
   "metadata": {},
   "outputs": [],
   "source": [
    "model.save(\"dense_encoder\")"
   ]
  }
 ],
 "metadata": {
  "kernelspec": {
   "display_name": "Python 3",
   "language": "python",
   "name": "python3"
  },
  "language_info": {
   "codemirror_mode": {
    "name": "ipython",
    "version": 3
   },
   "file_extension": ".py",
   "mimetype": "text/x-python",
   "name": "python",
   "nbconvert_exporter": "python",
   "pygments_lexer": "ipython3",
   "version": "3.8.8"
  }
 },
 "nbformat": 4,
 "nbformat_minor": 5
}
