{
 "cells": [
  {
   "cell_type": "markdown",
   "metadata": {},
   "source": [
    "# Hashing Autoencoders and RAMBO\n",
    "\n",
    "We are attempting to improve the performance of RAMBO by training an autoencoder to act as a hash function. Our eventual goal is to make a library of PDFs easily searchable, but for now we test with the AOL dataset used in class for our homeworks."
   ]
  },
  {
   "cell_type": "markdown",
   "metadata": {},
   "source": [
    "## Create training and validation data\n",
    "\n",
    "Here we simply download the AOL dataset from the appropriate website. We will later hash it and split it into training and validation datasets."
   ]
  },
  {
   "cell_type": "code",
   "execution_count": 1,
   "metadata": {},
   "outputs": [],
   "source": [
    "import urllib.request\n",
    "from pathlib import Path\n",
    "\n",
    "AOL_URL = \"http://www.cim.mcgill.ca/~dudek/206/Logs/AOL-user-ct-collection/user-ct-test-collection-01.txt\"\n",
    "\n",
    "data_dir = Path(\"data\")\n",
    "data_file = Path(\"data/aol.txt\")\n",
    "\n",
    "if not data_file.is_file():\n",
    "    if not data_dir.is_dir():\n",
    "        data_dir.mkdir(parents=True, exist_ok=True)\n",
    "\n",
    "    with urllib.request.urlopen(AOL_URL) as data_url, data_file.open(\n",
    "        \"w\", encoding=\"utf-8\"\n",
    "    ) as fd:\n",
    "        fd.write(data_url.read().decode(\"utf-8\"))"
   ]
  },
  {
   "cell_type": "markdown",
   "metadata": {},
   "source": [
    "Let's read it into a Pandas `DataFrame` and extract the queries from it."
   ]
  },
  {
   "cell_type": "code",
   "execution_count": 2,
   "metadata": {},
   "outputs": [],
   "source": [
    "import numpy as np\n",
    "import pandas as pd\n",
    "\n",
    "data = pd.read_csv(data_file, sep=\"\\t\")\n",
    "phrases = data.Query.dropna().unique().tolist()"
   ]
  },
  {
   "cell_type": "markdown",
   "metadata": {},
   "source": [
    "We convert the phrases to lists of ASCII numbers and pad them to 512 elements in length."
   ]
  },
  {
   "cell_type": "code",
   "execution_count": 27,
   "metadata": {},
   "outputs": [
    {
     "data": {
      "text/plain": [
       "(445286, 512)"
      ]
     },
     "execution_count": 27,
     "metadata": {},
     "output_type": "execute_result"
    }
   ],
   "source": [
    "import re\n",
    "\n",
    "PAD_CONST = 512\n",
    "\n",
    "\n",
    "def word_to_ascii(word):\n",
    "    ascii_word = list(map(ord, word))\n",
    "    padded_ascii = ascii_word + ([0] * (PAD_CONST - len(ascii_word)))\n",
    "    return padded_ascii\n",
    "\n",
    "# breaks phrases into word and collect unique ones.\n",
    "def preprocess():\n",
    "    keywords = set()\n",
    "    for s in phrases:\n",
    "        for w in re.findall(r'\\w+', s) :\n",
    "            keywords.add(w)\n",
    "    return list(keywords)\n",
    "\n",
    "word_set = preprocess()\n",
    "\n",
    "phrases_ascii = np.array(list(map(word_to_ascii, word_set)))\n",
    "phrases_ascii.shape\n"
   ]
  },
  {
   "cell_type": "markdown",
   "metadata": {},
   "source": [
    "Now we hash them with MurmurHash for our `y` variable"
   ]
  },
  {
   "cell_type": "code",
   "execution_count": 4,
   "metadata": {},
   "outputs": [
    {
     "data": {
      "text/plain": [
       "(1216652, 32)"
      ]
     },
     "execution_count": 4,
     "metadata": {},
     "output_type": "execute_result"
    }
   ],
   "source": [
    "from sklearn.utils import murmurhash3_32\n",
    "\n",
    "\n",
    "# Taken from: https://stackoverflow.com/a/47521145\n",
    "def vec_bin_array(arr, m):\n",
    "    \"\"\"\n",
    "    Arguments:\n",
    "    arr: Numpy array of positive integers\n",
    "    m: Number of bits of each integer to retain\n",
    "\n",
    "    Returns a copy of arr with every element replaced with a bit vector.\n",
    "    Bits encoded as int8's.\n",
    "    \"\"\"\n",
    "    to_str_func = np.vectorize(lambda x: np.binary_repr(x).zfill(m))\n",
    "    strs = to_str_func(arr)\n",
    "    ret = np.zeros(list(arr.shape) + [m], dtype=np.int64)\n",
    "    for bit_ix in range(0, m):\n",
    "        fetch_bit_func = np.vectorize(lambda x: x[bit_ix] == \"1\")\n",
    "        ret[..., bit_ix] = fetch_bit_func(strs).astype(\"int8\")\n",
    "\n",
    "    return ret\n",
    "\n",
    "\n",
    "phrases_hashed = vec_bin_array(\n",
    "    np.array(list(map(lambda x: murmurhash3_32(x, seed=2021, positive=True), phrases))),\n",
    "    32,\n",
    ")\n",
    "phrases_hashed.shape"
   ]
  },
  {
   "cell_type": "markdown",
   "metadata": {},
   "source": [
    "## Building our model\n",
    "\n",
    "Before we train our encoder, we split the dataset into training, testing, and validation sets."
   ]
  },
  {
   "cell_type": "code",
   "execution_count": 28,
   "metadata": {},
   "outputs": [],
   "source": [
    "from sklearn.model_selection import train_test_split\n",
    "\n",
    "X_train, X_test, y_train, y_test = train_test_split(\n",
    "    phrases_ascii, phrases_ascii, test_size=0.2, random_state=2021\n",
    ")\n",
    "\n",
    "X_train, X_val, y_train, y_val = train_test_split(\n",
    "    X_train, y_train, test_size=0.25, random_state=2021\n",
    ")"
   ]
  },
  {
   "cell_type": "markdown",
   "metadata": {},
   "source": [
    "Now we're finally ready to create `tf.Dataset` objects out of our data. This is an API provided by Tensorflow which allows for easy manipulation of data for training models."
   ]
  },
  {
   "cell_type": "code",
   "execution_count": 29,
   "metadata": {},
   "outputs": [],
   "source": [
    "import tensorflow as tf\n",
    "\n",
    "train_dataset = tf.data.Dataset.from_tensor_slices((X_train, y_train))\n",
    "val_dataset = tf.data.Dataset.from_tensor_slices((X_val, y_val))\n",
    "test_dataset = tf.data.Dataset.from_tensor_slices((X_test, y_test))\n",
    "\n",
    "BATCH_SIZE = 32\n",
    "SHUFFLE_BUFFER_SIZE = 96\n",
    "\n",
    "train_dataset = train_dataset.shuffle(SHUFFLE_BUFFER_SIZE).batch(BATCH_SIZE)\n",
    "val_dataset = val_dataset.shuffle(SHUFFLE_BUFFER_SIZE).batch(BATCH_SIZE)\n",
    "test_dataset = test_dataset.shuffle(SHUFFLE_BUFFER_SIZE).batch(BATCH_SIZE)"
   ]
  },
  {
   "cell_type": "markdown",
   "metadata": {},
   "source": [
    "Next, we define our model. We focus on the encoding portion of the encoder-decoder pair, as that is what concerns us the most."
   ]
  },
  {
   "cell_type": "code",
   "execution_count": 47,
   "metadata": {},
   "outputs": [
    {
     "name": "stdout",
     "output_type": "stream",
     "text": [
      "Model: \"autoencoder_14\"\n",
      "_________________________________________________________________\n",
      "Layer (type)                 Output Shape              Param #   \n",
      "=================================================================\n",
      "sequential_26 (Sequential)   (None, 32)                174560    \n",
      "_________________________________________________________________\n",
      "sequential_27 (Sequential)   (None, 512)               175040    \n",
      "=================================================================\n",
      "Total params: 349,600\n",
      "Trainable params: 349,600\n",
      "Non-trainable params: 0\n",
      "_________________________________________________________________\n"
     ]
    }
   ],
   "source": [
    "from tensorflow import keras\n",
    "from tensorflow.keras import layers, regularizers\n",
    "\n",
    "latent_dim = 32\n",
    "\n",
    "\n",
    "class Autoencoder(keras.models.Model):\n",
    "    def __init__(self, latent_dim):\n",
    "        super(Autoencoder, self).__init__()\n",
    "        self.latent_dim = latent_dim\n",
    "        self.encoder = keras.Sequential(\n",
    "            [\n",
    "                layers.Dense(256, activation=\"relu\"),\n",
    "                layers.Dense(128, activation=\"relu\"),\n",
    "                layers.Dense(64, activation=\"relu\"),\n",
    "                layers.Dense(self.latent_dim, activation=\"relu\", activity_regularizer=regularizers.l1(10e-3)),\n",
    "            ]\n",
    "        )\n",
    "\n",
    "        self.decoder = keras.Sequential(\n",
    "            [\n",
    "                layers.Dense(64, activation=\"relu\"),\n",
    "                layers.Dense(128, activation=\"relu\"),\n",
    "                layers.Dense(256, activation=\"relu\"),\n",
    "                layers.Dense(512, activation=\"relu\"),\n",
    "            ]\n",
    "        )\n",
    "\n",
    "    def call(self, x):\n",
    "        encoded = self.encoder(x)\n",
    "        decoded = self.decoder(encoded)\n",
    "        return decoded\n",
    "\n",
    "    def encode(self, x):\n",
    "        return self.encoder(x)\n",
    "\n",
    "    def decode(self, x):\n",
    "        return self.decoder(x)\n",
    "\n",
    "\n",
    "model = Autoencoder(latent_dim)\n",
    "model.build((None, 512))\n",
    "model.compile(\n",
    "    loss=\"mean_squared_error\",\n",
    "    optimizer=\"adam\",\n",
    "    metrics=[\"accuracy\"],\n",
    ")\n",
    "model.summary()"
   ]
  },
  {
   "cell_type": "code",
   "execution_count": null,
   "metadata": {},
   "outputs": [
    {
     "name": "stdout",
     "output_type": "stream",
     "text": [
      "Epoch 1/40\n",
      "8350/8350 [==============================] - 27s 3ms/step - loss: 29.9036 - accuracy: 0.1879 - val_loss: 16.0995 - val_accuracy: 0.2858\n",
      "\n",
      "Epoch 00001: val_loss improved from inf to 16.09947, saving model to model-tgs-salt.h5\n",
      "Epoch 2/40\n",
      "8350/8350 [==============================] - 31s 4ms/step - loss: 15.6686 - accuracy: 0.2787 - val_loss: 10.0785 - val_accuracy: 0.3186\n",
      "\n",
      "Epoch 00002: val_loss improved from 16.09947 to 10.07854, saving model to model-tgs-salt.h5\n",
      "Epoch 3/40\n",
      "8350/8350 [==============================] - 28s 3ms/step - loss: 9.9341 - accuracy: 0.3458 - val_loss: 9.7957 - val_accuracy: 0.2961\n",
      "\n",
      "Epoch 00003: val_loss improved from 10.07854 to 9.79567, saving model to model-tgs-salt.h5\n",
      "Epoch 4/40\n",
      "8350/8350 [==============================] - 29s 3ms/step - loss: 9.3288 - accuracy: 0.3931 - val_loss: 8.8566 - val_accuracy: 0.4066\n",
      "\n",
      "Epoch 00004: val_loss improved from 9.79567 to 8.85660, saving model to model-tgs-salt.h5\n",
      "Epoch 5/40\n",
      "8350/8350 [==============================] - 28s 3ms/step - loss: 9.0931 - accuracy: 0.4045 - val_loss: 8.8285 - val_accuracy: 0.4164\n",
      "\n",
      "Epoch 00005: val_loss improved from 8.85660 to 8.82855, saving model to model-tgs-salt.h5\n",
      "Epoch 6/40\n",
      "8350/8350 [==============================] - 27s 3ms/step - loss: 8.9790 - accuracy: 0.4112 - val_loss: 8.7542 - val_accuracy: 0.3750\n",
      "\n",
      "Epoch 00006: val_loss improved from 8.82855 to 8.75421, saving model to model-tgs-salt.h5\n",
      "Epoch 7/40\n",
      "8350/8350 [==============================] - 28s 3ms/step - loss: 8.9720 - accuracy: 0.4112 - val_loss: 8.8236 - val_accuracy: 0.4081\n",
      "\n",
      "Epoch 00007: val_loss did not improve from 8.75421\n",
      "Epoch 8/40\n",
      "8350/8350 [==============================] - 27s 3ms/step - loss: 8.8957 - accuracy: 0.4216 - val_loss: 8.5647 - val_accuracy: 0.4354\n",
      "\n",
      "Epoch 00008: val_loss improved from 8.75421 to 8.56468, saving model to model-tgs-salt.h5\n",
      "Epoch 9/40\n",
      "8350/8350 [==============================] - 27s 3ms/step - loss: 8.8895 - accuracy: 0.4213 - val_loss: 8.5437 - val_accuracy: 0.4302\n",
      "\n",
      "Epoch 00009: val_loss improved from 8.56468 to 8.54370, saving model to model-tgs-salt.h5\n",
      "Epoch 10/40\n",
      "8350/8350 [==============================] - 27s 3ms/step - loss: 8.8626 - accuracy: 0.4319 - val_loss: 8.5727 - val_accuracy: 0.4296\n",
      "\n",
      "Epoch 00010: val_loss did not improve from 8.54370\n",
      "Epoch 11/40\n",
      "8350/8350 [==============================] - 31s 4ms/step - loss: 8.7352 - accuracy: 0.4353 - val_loss: 8.6047 - val_accuracy: 0.4295\n",
      "\n",
      "Epoch 00011: val_loss did not improve from 8.54370\n",
      "Epoch 12/40\n",
      "8350/8350 [==============================] - 28s 3ms/step - loss: 8.8001 - accuracy: 0.4331 - val_loss: 8.4612 - val_accuracy: 0.4419\n",
      "\n",
      "Epoch 00012: val_loss improved from 8.54370 to 8.46124, saving model to model-tgs-salt.h5\n",
      "Epoch 13/40\n",
      "8350/8350 [==============================] - 28s 3ms/step - loss: 8.7656 - accuracy: 0.4351 - val_loss: 8.5134 - val_accuracy: 0.4177\n",
      "\n",
      "Epoch 00013: val_loss did not improve from 8.46124\n",
      "Epoch 14/40\n",
      "8350/8350 [==============================] - 27s 3ms/step - loss: 8.7291 - accuracy: 0.4326 - val_loss: 8.3943 - val_accuracy: 0.4344\n",
      "\n",
      "Epoch 00014: val_loss improved from 8.46124 to 8.39429, saving model to model-tgs-salt.h5\n",
      "Epoch 15/40\n",
      "8350/8350 [==============================] - 28s 3ms/step - loss: 8.6438 - accuracy: 0.4352 - val_loss: 8.4758 - val_accuracy: 0.4465\n",
      "\n",
      "Epoch 00015: val_loss did not improve from 8.39429\n",
      "Epoch 16/40\n",
      "8350/8350 [==============================] - 30s 4ms/step - loss: 8.6856 - accuracy: 0.4309 - val_loss: 8.3314 - val_accuracy: 0.4219\n",
      "\n",
      "Epoch 00016: val_loss improved from 8.39429 to 8.33141, saving model to model-tgs-salt.h5\n",
      "Epoch 17/40\n",
      "8350/8350 [==============================] - 28s 3ms/step - loss: 8.6245 - accuracy: 0.4274 - val_loss: 8.3749 - val_accuracy: 0.4452\n",
      "\n",
      "Epoch 00017: val_loss did not improve from 8.33141\n",
      "Epoch 18/40\n",
      "8350/8350 [==============================] - 29s 3ms/step - loss: 8.5972 - accuracy: 0.4353 - val_loss: 8.4764 - val_accuracy: 0.4273\n",
      "\n",
      "Epoch 00018: val_loss did not improve from 8.33141\n",
      "Epoch 19/40\n",
      "8350/8350 [==============================] - 28s 3ms/step - loss: 8.5789 - accuracy: 0.4294 - val_loss: 8.4423 - val_accuracy: 0.4191\n",
      "\n",
      "Epoch 00019: val_loss did not improve from 8.33141\n",
      "Epoch 20/40\n",
      "8350/8350 [==============================] - 29s 3ms/step - loss: 8.5726 - accuracy: 0.4319 - val_loss: 8.3169 - val_accuracy: 0.4528\n",
      "\n",
      "Epoch 00020: val_loss improved from 8.33141 to 8.31691, saving model to model-tgs-salt.h5\n",
      "Epoch 21/40\n",
      "8350/8350 [==============================] - 28s 3ms/step - loss: 8.1680 - accuracy: 0.4323 - val_loss: 3.0303 - val_accuracy: 0.4256\n",
      "\n",
      "Epoch 00021: val_loss improved from 8.31691 to 3.03029, saving model to model-tgs-salt.h5\n",
      "Epoch 22/40\n",
      "8350/8350 [==============================] - 29s 3ms/step - loss: 3.1524 - accuracy: 0.4360 - val_loss: 2.9038 - val_accuracy: 0.4443\n",
      "\n",
      "Epoch 00022: val_loss improved from 3.03029 to 2.90383, saving model to model-tgs-salt.h5\n",
      "Epoch 23/40\n",
      "8350/8350 [==============================] - 28s 3ms/step - loss: 3.1508 - accuracy: 0.4380 - val_loss: 3.0214 - val_accuracy: 0.4134\n",
      "\n",
      "Epoch 00023: val_loss did not improve from 2.90383\n",
      "Epoch 24/40\n",
      "8350/8350 [==============================] - 28s 3ms/step - loss: 3.1221 - accuracy: 0.4450 - val_loss: 2.9314 - val_accuracy: 0.4299\n",
      "\n",
      "Epoch 00024: val_loss did not improve from 2.90383\n",
      "Epoch 25/40\n",
      "8350/8350 [==============================] - 28s 3ms/step - loss: 3.0985 - accuracy: 0.4457 - val_loss: 2.9851 - val_accuracy: 0.4336\n",
      "\n",
      "Epoch 00025: val_loss did not improve from 2.90383\n",
      "Epoch 26/40\n",
      "8350/8350 [==============================] - 28s 3ms/step - loss: 3.1106 - accuracy: 0.4454 - val_loss: 2.9136 - val_accuracy: 0.4339\n",
      "\n",
      "Epoch 00026: val_loss did not improve from 2.90383\n",
      "Epoch 27/40\n",
      "8350/8350 [==============================] - 28s 3ms/step - loss: 3.0871 - accuracy: 0.4474 - val_loss: 2.9520 - val_accuracy: 0.4313\n",
      "\n",
      "Epoch 00027: ReduceLROnPlateau reducing learning rate to 0.00010000000474974513.\n",
      "\n",
      "Epoch 00027: val_loss did not improve from 2.90383\n",
      "Epoch 28/40\n",
      "8350/8350 [==============================] - 28s 3ms/step - loss: 2.9711 - accuracy: 0.4817 - val_loss: 2.7878 - val_accuracy: 0.4785\n",
      "\n",
      "Epoch 00028: val_loss improved from 2.90383 to 2.78778, saving model to model-tgs-salt.h5\n",
      "Epoch 29/40\n",
      "8350/8350 [==============================] - 28s 3ms/step - loss: 2.9368 - accuracy: 0.4832 - val_loss: 2.7784 - val_accuracy: 0.4798\n",
      "\n",
      "Epoch 00029: val_loss improved from 2.78778 to 2.77836, saving model to model-tgs-salt.h5\n",
      "Epoch 30/40\n",
      "8350/8350 [==============================] - 29s 3ms/step - loss: 2.9266 - accuracy: 0.4833 - val_loss: 2.7792 - val_accuracy: 0.4800\n",
      "\n",
      "Epoch 00030: val_loss did not improve from 2.77836\n",
      "Epoch 31/40\n",
      "8350/8350 [==============================] - 32s 4ms/step - loss: 2.9242 - accuracy: 0.4825 - val_loss: 2.7695 - val_accuracy: 0.4774\n",
      "\n",
      "Epoch 00031: val_loss improved from 2.77836 to 2.76952, saving model to model-tgs-salt.h5\n",
      "Epoch 32/40\n",
      "8350/8350 [==============================] - 30s 4ms/step - loss: 2.9189 - accuracy: 0.4828 - val_loss: 2.7668 - val_accuracy: 0.4756\n",
      "\n",
      "Epoch 00032: val_loss improved from 2.76952 to 2.76676, saving model to model-tgs-salt.h5\n",
      "Epoch 33/40\n",
      "8350/8350 [==============================] - 28s 3ms/step - loss: 2.9133 - accuracy: 0.4830 - val_loss: 2.7632 - val_accuracy: 0.4777\n",
      "\n",
      "Epoch 00033: val_loss improved from 2.76676 to 2.76316, saving model to model-tgs-salt.h5\n",
      "Epoch 34/40\n",
      "8350/8350 [==============================] - 28s 3ms/step - loss: 2.9133 - accuracy: 0.4831 - val_loss: 2.7595 - val_accuracy: 0.4813\n",
      "\n",
      "Epoch 00034: val_loss improved from 2.76316 to 2.75949, saving model to model-tgs-salt.h5\n",
      "Epoch 35/40\n",
      "8350/8350 [==============================] - 29s 3ms/step - loss: 2.9100 - accuracy: 0.4833 - val_loss: 2.7602 - val_accuracy: 0.4791\n",
      "\n",
      "Epoch 00035: val_loss did not improve from 2.75949\n",
      "Epoch 36/40\n",
      "8350/8350 [==============================] - 28s 3ms/step - loss: 2.9100 - accuracy: 0.4836 - val_loss: 2.7558 - val_accuracy: 0.4806\n",
      "\n",
      "Epoch 00036: val_loss improved from 2.75949 to 2.75580, saving model to model-tgs-salt.h5\n",
      "Epoch 37/40\n",
      "8350/8350 [==============================] - 28s 3ms/step - loss: 2.9055 - accuracy: 0.4831 - val_loss: 2.7541 - val_accuracy: 0.4834\n",
      "\n",
      "Epoch 00037: val_loss improved from 2.75580 to 2.75405, saving model to model-tgs-salt.h5\n"
     ]
    },
    {
     "name": "stdout",
     "output_type": "stream",
     "text": [
      "Epoch 38/40\n",
      "8350/8350 [==============================] - 27s 3ms/step - loss: 2.9052 - accuracy: 0.4829 - val_loss: 2.7567 - val_accuracy: 0.4688\n",
      "\n",
      "Epoch 00038: val_loss did not improve from 2.75405\n",
      "Epoch 39/40\n",
      "4988/8350 [================>.............] - ETA: 8s - loss: 3.0750 - accuracy: 0.4839"
     ]
    }
   ],
   "source": [
    "callbacks = [\n",
    "    tf.keras.callbacks.EarlyStopping(\n",
    "        monitor=\"val_loss\", mode=\"min\", patience=10, verbose=1\n",
    "    ),\n",
    "    tf.keras.callbacks.ReduceLROnPlateau(\n",
    "        factor=0.1, patience=5, min_lr=0.00001, verbose=1\n",
    "    ),\n",
    "    tf.keras.callbacks.ModelCheckpoint(\n",
    "        \"model-tgs-salt.h5\", verbose=1, save_best_only=True, save_weights_only=True\n",
    "    ),\n",
    "]\n",
    "\n",
    "history = model.fit(\n",
    "    train_dataset, epochs=40, callbacks=callbacks, validation_data=val_dataset\n",
    ")"
   ]
  },
  {
   "cell_type": "markdown",
   "metadata": {},
   "source": [
    "### Plotting training results\n",
    "\n",
    "Here we plot our training results, just to convince ourselves that our model is working."
   ]
  },
  {
   "cell_type": "code",
   "execution_count": null,
   "metadata": {},
   "outputs": [],
   "source": [
    "import matplotlib.pyplot as plt\n",
    "\n",
    "#  \"Accuracy\"\n",
    "plt.plot(history.history[\"acc\"])\n",
    "plt.plot(history.history[\"val_acc\"])\n",
    "plt.title(\"model accuracy\")\n",
    "plt.ylabel(\"accuracy\")\n",
    "plt.xlabel(\"epoch\")\n",
    "plt.legend([\"train\", \"validation\"], loc=\"upper left\")\n",
    "plt.show()\n",
    "# \"Loss\"\n",
    "plt.plot(history.history[\"loss\"])\n",
    "plt.plot(history.history[\"val_loss\"])\n",
    "plt.title(\"model loss\")\n",
    "plt.ylabel(\"loss\")\n",
    "plt.xlabel(\"epoch\")\n",
    "plt.legend([\"train\", \"validation\"], loc=\"upper left\")\n",
    "plt.show()"
   ]
  },
  {
   "cell_type": "markdown",
   "metadata": {},
   "source": [
    "### Testing our model\n",
    "We test our model on the test dataset we set aside earlier."
   ]
  },
  {
   "cell_type": "code",
   "execution_count": null,
   "metadata": {},
   "outputs": [],
   "source": [
    "results = model.evaluate(test_dataset)\n",
    "\n",
    "print(\"Test loss, test accuracy: \", results)"
   ]
  },
  {
   "cell_type": "code",
   "execution_count": 46,
   "metadata": {},
   "outputs": [
    {
     "name": "stdout",
     "output_type": "stream",
     "text": [
      "tf.Tensor(\n",
      "[[0.         0.         0.         1.6588633  0.         0.\n",
      "  0.49578863 0.         0.         0.         1.1204555  0.\n",
      "  0.         0.         1.3190415  0.         0.         0.\n",
      "  0.         0.5487397  0.         0.         0.         0.\n",
      "  0.         0.         3.9223642  0.         0.         2.0180912\n",
      "  0.         0.        ]], shape=(1, 32), dtype=float32)\n",
      "tf.Tensor(\n",
      "[[0.         0.         0.         1.6487377  0.         0.\n",
      "  0.49603695 0.         0.         0.         1.1241846  0.\n",
      "  0.         0.         1.3250573  0.         0.         0.\n",
      "  0.         0.5537174  0.         0.         0.         0.\n",
      "  0.         0.         3.9255157  0.         0.         2.017427\n",
      "  0.         0.        ]], shape=(1, 32), dtype=float32)\n",
      "tf.Tensor(\n",
      "[[0.         0.         0.         1.638612   0.         0.\n",
      "  0.4962849  0.         0.         0.         1.1279136  0.\n",
      "  0.         0.         1.3310716  0.         0.         0.\n",
      "  0.         0.55869544 0.         0.         0.         0.\n",
      "  0.         0.         3.928666   0.         0.         2.0167632\n",
      "  0.         0.        ]], shape=(1, 32), dtype=float32)\n",
      "tf.Tensor(\n",
      "[[0.         0.         0.         1.628486   0.         0.\n",
      "  0.49653286 0.         0.         0.         1.1316433  0.\n",
      "  0.         0.         1.3370872  0.         0.         0.\n",
      "  0.         0.56367314 0.         0.         0.         0.\n",
      "  0.         0.         3.931818   0.         0.         2.0161\n",
      "  0.         0.        ]], shape=(1, 32), dtype=float32)\n",
      "tf.Tensor(\n",
      "[[0.        0.        0.        0.        0.        0.        0.\n",
      "  0.        0.        0.        1.05668   0.        0.        0.\n",
      "  0.5230888 0.        0.        0.        0.        1.5706055 0.\n",
      "  0.149014  0.        0.        0.        0.        3.6805954 0.\n",
      "  0.        1.9184009 0.        0.       ]], shape=(1, 32), dtype=float32)\n",
      "tf.Tensor(\n",
      "[[0.         0.         0.         2.8980272  0.         0.\n",
      "  0.78847784 0.         0.         0.         0.5725242  0.\n",
      "  0.         0.         1.1193843  0.         0.         0.\n",
      "  0.         0.12375951 0.         0.         0.         0.\n",
      "  0.         0.         3.3750954  0.         0.         1.7167429\n",
      "  0.         0.21075258]], shape=(1, 32), dtype=float32)\n",
      "tf.Tensor(\n",
      "[[0.         0.         0.         1.8814774  0.         3.172102\n",
      "  4.4394317  0.         0.         0.         0.62064755 0.\n",
      "  0.         0.         1.0225658  0.         1.1649408  0.\n",
      "  0.         4.228215   0.         0.         0.         0.\n",
      "  0.         0.         0.47298774 0.         0.         3.00074\n",
      "  3.6140833  0.        ]], shape=(1, 32), dtype=float32)\n",
      "tf.Tensor(\n",
      "[[0.         0.         0.         1.0007384  0.         0.\n",
      "  0.09519518 0.         0.         0.         0.41275814 0.\n",
      "  0.         0.         2.216634   0.         0.         0.\n",
      "  0.         2.1326122  0.         0.         0.         0.\n",
      "  0.         0.         0.2761561  0.         0.         3.4390268\n",
      "  0.         0.22576031]], shape=(1, 32), dtype=float32)\n"
     ]
    }
   ],
   "source": [
    "print(model.encode(tf.convert_to_tensor([(word_to_ascii(\"test1\"))])))\n",
    "print(model.encode(tf.convert_to_tensor([(word_to_ascii(\"test2\"))])))\n",
    "print(model.encode(tf.convert_to_tensor([(word_to_ascii(\"test3\"))])))\n",
    "print(model.encode(tf.convert_to_tensor([(word_to_ascii(\"test4\"))])))\n",
    "print(model.encode(tf.convert_to_tensor([(word_to_ascii(\"apple\"))])))\n",
    "print(model.encode(tf.convert_to_tensor([(word_to_ascii(\"pear\"))])))\n",
    "print(model.encode(tf.convert_to_tensor([(word_to_ascii(\"shakespear\"))])))\n",
    "print(model.encode(tf.convert_to_tensor([(word_to_ascii(\"beatles\"))])))"
   ]
  },
  {
   "cell_type": "code",
   "execution_count": 34,
   "metadata": {},
   "outputs": [],
   "source": [
    "code1 = model.encode(tf.convert_to_tensor([(word_to_ascii(\"test1\"))]))\n",
    "code2 = model.encode(tf.convert_to_tensor([(word_to_ascii(\"apple\"))]))\n",
    "code3 = model.encode(tf.convert_to_tensor([(word_to_ascii(\"test1\"))]))\n",
    "code4 = model.encode(tf.convert_to_tensor([(word_to_ascii(\"pear\"))]))"
   ]
  },
  {
   "cell_type": "code",
   "execution_count": 39,
   "metadata": {},
   "outputs": [
    {
     "name": "stdout",
     "output_type": "stream",
     "text": [
      "[ 12.567999   0.         0.         0.        25.422573   0.\n",
      "   0.         0.         0.        66.64754    0.         0.\n",
      "   0.         0.        27.471172  38.67737    0.        70.55087\n",
      "  51.201347  55.41217  115.450645   0.         0.         0.\n",
      "   0.         0.        46.195705  16.857456   0.         0.\n",
      "   0.         0.      ]\n"
     ]
    }
   ],
   "source": [
    "\n",
    "def map_code_to_hash_val(code, range):\n",
    "    # code is the output of autoencoder of a word\n",
    "    # range is the length of the bloomfilter\n",
    "    \n",
    "    # convert tensor to array\n",
    "    arr = code.numpy()[0]\n",
    "    print(arr)\n",
    "    sub_range_len = range/code\n",
    "    max_val = 128\n",
    "    #for i in range(32):\n",
    "        \n",
    "map_code_to_hash_val(code2, pow(2,10))"
   ]
  },
  {
   "cell_type": "markdown",
   "metadata": {},
   "source": [
    "### Saving the model\n",
    "\n",
    "We saved the model in Tensorflow's own `SavedModel` format to use later."
   ]
  },
  {
   "cell_type": "code",
   "execution_count": null,
   "metadata": {},
   "outputs": [],
   "source": [
    "model.save(\"dense_encoder\")"
   ]
  }
 ],
 "metadata": {
  "kernelspec": {
   "display_name": "Python 3",
   "language": "python",
   "name": "python3"
  },
  "language_info": {
   "codemirror_mode": {
    "name": "ipython",
    "version": 3
   },
   "file_extension": ".py",
   "mimetype": "text/x-python",
   "name": "python",
   "nbconvert_exporter": "python",
   "pygments_lexer": "ipython3",
   "version": "3.8.5"
  }
 },
 "nbformat": 4,
 "nbformat_minor": 5
}
